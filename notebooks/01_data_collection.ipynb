{
 "cells": [
  {
   "cell_type": "markdown",
   "id": "f7039211",
   "metadata": {},
   "source": [
    "# 01 – Data Collection"
   ]
  },
  {
   "cell_type": "code",
   "execution_count": null,
   "id": "cf32bd19",
   "metadata": {},
   "outputs": [],
   "source": [
    "import pandas as pd, yfinance as yf\n",
    "from datetime import date, timedelta\n",
    "fallback_csv = \"../data/raw/sample_AAPL.csv\"\n",
    "ticker = \"AAPL\"\n",
    "end = date.today(); start = end - timedelta(days=5*365)\n",
    "try:\n",
    "    df = yf.download(ticker, start=start, end=end).reset_index()\n",
    "    if df.empty: raise RuntimeError(\"Empty data\")\n",
    "    print(\"Loaded live data.\")\n",
    "except Exception as e:\n",
    "    print(\"Using fallback CSV:\", e)\n",
    "    df = pd.read_csv(fallback_csv, parse_dates=[\"Date\"])\n",
    "df.tail()"
   ]
  }
 ],
 "metadata": {},
 "nbformat": 4,
 "nbformat_minor": 5
}
