{
 "cells": [
  {
   "cell_type": "markdown",
   "id": "3bef1109",
   "metadata": {},
   "source": [
    "# 02 – Modeling & Comparison"
   ]
  },
  {
   "cell_type": "code",
   "execution_count": null,
   "id": "c223b014",
   "metadata": {},
   "outputs": [],
   "source": [
    "import pandas as pd, numpy as np\n",
    "from sklearn.metrics import mean_squared_error\n",
    "from statsmodels.tsa.statespace.sarimax import SARIMAX\n",
    "from prophet import Prophet\n",
    "from tensorflow.keras.models import Sequential\n",
    "from tensorflow.keras.layers import LSTM, Dense\n",
    "from sklearn.preprocessing import MinMaxScaler\n",
    "\n",
    "df = pd.read_csv(\"../data/raw/sample_AAPL.csv\", parse_dates=[\"Date\"])\n",
    "split = int(len(df)*0.8)\n",
    "train, test = df[:split], df[split:]\n",
    "\n",
    "# SARIMA\n",
    "sar = SARIMAX(train.set_index(\"Date\")[\"Close\"], order=(1,1,1), seasonal_order=(1,1,1,12)).fit(disp=False)\n",
    "s_fc = sar.get_forecast(steps=len(test)).predicted_mean\n",
    "sar_rmse = mean_squared_error(test[\"Close\"], s_fc, squared=False)\n",
    "\n",
    "# Prophet\n",
    "d = train[[\"Date\",\"Close\"]].rename(columns={\"Date\":\"ds\",\"Close\":\"y\"})\n",
    "m = Prophet(daily_seasonality=True).fit(d)\n",
    "fut = m.make_future_dataframe(periods=len(test))\n",
    "p_fc = m.predict(fut).set_index(\"ds\").loc[test[\"Date\"]][\"yhat\"]\n",
    "p_rmse = mean_squared_error(test[\"Close\"], p_fc, squared=False)\n",
    "\n",
    "# LSTM\n",
    "look_back = 60\n",
    "series = train[[\"Date\",\"Close\"]].set_index(\"Date\").values\n",
    "scaler = MinMaxScaler((0,1))\n",
    "scaled = scaler.fit_transform(series)\n",
    "X,y=[],[]\n",
    "for i in range(look_back, len(scaled)):\n",
    "    X.append(scaled[i-look_back:i,0]); y.append(scaled[i,0])\n",
    "X = np.array(X).reshape(-1,look_back,1); y = np.array(y)\n",
    "model = Sequential([LSTM(50, return_sequences=True, input_shape=(look_back,1)), LSTM(50), Dense(1)])\n",
    "model.compile(optimizer=\"adam\", loss=\"mse\")\n",
    "model.fit(X, y, epochs=3, batch_size=32, verbose=0)\n",
    "seq = scaled[-look_back:].reshape(1,look_back,1)\n",
    "preds=[]\n",
    "for _ in range(len(test)):\n",
    "    p = model.predict(seq, verbose=0)[0][0]; preds.append(p)\n",
    "    seq = np.append(seq[:,1:,:], [[[p]]], axis=1)\n",
    "l_fc = scaler.inverse_transform(np.array(preds).reshape(-1,1)).flatten()\n",
    "lstm_rmse = mean_squared_error(test[\"Close\"].values, l_fc, squared=False)\n",
    "\n",
    "pd.DataFrame({\"Model\":[\"SARIMA\",\"Prophet\",\"LSTM\"],\"RMSE\":[sar_rmse,p_rmse,lstm_rmse]})"
   ]
  }
 ],
 "metadata": {},
 "nbformat": 4,
 "nbformat_minor": 5
}
